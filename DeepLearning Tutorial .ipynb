{
 "cells": [
  {
   "cell_type": "code",
   "execution_count": 3,
   "id": "234f605b",
   "metadata": {},
   "outputs": [],
   "source": [
    "from tensorflow.keras.models import Sequential\n",
    "from tensorflow.keras.layers import Dense\n",
    "import numpy as np \n",
    "import tensorflow as tf\n",
    "np.random.seed(3)\n",
    "tf.random.set_seed(3)"
   ]
  },
  {
   "cell_type": "code",
   "execution_count": 6,
   "id": "fa0f3d27",
   "metadata": {},
   "outputs": [
    {
     "data": {
      "text/plain": [
       "array([[293.  ,   1.  ,   3.8 , ...,   0.  ,  62.  ,   0.  ],\n",
       "       [  1.  ,   2.  ,   2.88, ...,   0.  ,  60.  ,   0.  ],\n",
       "       [  8.  ,   2.  ,   3.19, ...,   0.  ,  66.  ,   1.  ],\n",
       "       ...,\n",
       "       [406.  ,   6.  ,   5.36, ...,   0.  ,  62.  ,   0.  ],\n",
       "       [ 25.  ,   8.  ,   4.32, ...,   0.  ,  58.  ,   1.  ],\n",
       "       [447.  ,   8.  ,   5.2 , ...,   0.  ,  49.  ,   0.  ]])"
      ]
     },
     "execution_count": 6,
     "metadata": {},
     "output_type": "execute_result"
    }
   ],
   "source": [
    "Data_set = np.loadtxt(\"data/ThoraricSurgery.csv\",delimiter=\",\")\n",
    "Data_set"
   ]
  },
  {
   "cell_type": "code",
   "execution_count": 7,
   "id": "b2950cfc",
   "metadata": {},
   "outputs": [
    {
     "data": {
      "text/plain": [
       "(470, 18)"
      ]
     },
     "execution_count": 7,
     "metadata": {},
     "output_type": "execute_result"
    }
   ],
   "source": [
    "Data_set.shape"
   ]
  },
  {
   "cell_type": "code",
   "execution_count": 10,
   "id": "2f118bdd",
   "metadata": {
    "scrolled": true
   },
   "outputs": [
    {
     "name": "stdout",
     "output_type": "stream",
     "text": [
      "Epoch 1/100\n",
      "47/47 [==============================] - 0s 499us/step - loss: 0.6252 - accuracy: 0.7901\n",
      "Epoch 2/100\n",
      "47/47 [==============================] - 0s 499us/step - loss: 0.4237 - accuracy: 0.8689\n",
      "Epoch 3/100\n",
      "47/47 [==============================] - 0s 455us/step - loss: 0.4479 - accuracy: 0.8280\n",
      "Epoch 4/100\n",
      "47/47 [==============================] - 0s 505us/step - loss: 0.5070 - accuracy: 0.8376\n",
      "Epoch 5/100\n",
      "47/47 [==============================] - 0s 455us/step - loss: 0.4353 - accuracy: 0.8568\n",
      "Epoch 6/100\n",
      "47/47 [==============================] - 0s 499us/step - loss: 0.4205 - accuracy: 0.8516\n",
      "Epoch 7/100\n",
      "47/47 [==============================] - 0s 453us/step - loss: 0.4755 - accuracy: 0.8430\n",
      "Epoch 8/100\n",
      "47/47 [==============================] - 0s 477us/step - loss: 0.4515 - accuracy: 0.8495\n",
      "Epoch 9/100\n",
      "47/47 [==============================] - 0s 455us/step - loss: 0.3900 - accuracy: 0.8635\n",
      "Epoch 10/100\n",
      "47/47 [==============================] - 0s 434us/step - loss: 0.3934 - accuracy: 0.8701\n",
      "Epoch 11/100\n",
      "47/47 [==============================] - 0s 496us/step - loss: 0.4455 - accuracy: 0.8482\n",
      "Epoch 12/100\n",
      "47/47 [==============================] - 0s 434us/step - loss: 0.4475 - accuracy: 0.8410\n",
      "Epoch 13/100\n",
      "47/47 [==============================] - 0s 455us/step - loss: 0.4701 - accuracy: 0.8214\n",
      "Epoch 14/100\n",
      "47/47 [==============================] - 0s 455us/step - loss: 0.4428 - accuracy: 0.8321\n",
      "Epoch 15/100\n",
      "47/47 [==============================] - 0s 434us/step - loss: 0.4754 - accuracy: 0.8243\n",
      "Epoch 16/100\n",
      "47/47 [==============================] - 0s 477us/step - loss: 0.3903 - accuracy: 0.8622\n",
      "Epoch 17/100\n",
      "47/47 [==============================] - 0s 455us/step - loss: 0.4298 - accuracy: 0.8565\n",
      "Epoch 18/100\n",
      "47/47 [==============================] - 0s 455us/step - loss: 0.4886 - accuracy: 0.8570\n",
      "Epoch 19/100\n",
      "47/47 [==============================] - 0s 520us/step - loss: 0.4270 - accuracy: 0.8455\n",
      "Epoch 20/100\n",
      "47/47 [==============================] - 0s 455us/step - loss: 0.4299 - accuracy: 0.8615\n",
      "Epoch 21/100\n",
      "47/47 [==============================] - 0s 477us/step - loss: 0.4243 - accuracy: 0.8463\n",
      "Epoch 22/100\n",
      "47/47 [==============================] - 0s 434us/step - loss: 0.4179 - accuracy: 0.8572\n",
      "Epoch 23/100\n",
      "47/47 [==============================] - 0s 477us/step - loss: 0.4199 - accuracy: 0.8538\n",
      "Epoch 24/100\n",
      "47/47 [==============================] - 0s 434us/step - loss: 0.4298 - accuracy: 0.8402\n",
      "Epoch 25/100\n",
      "47/47 [==============================] - 0s 442us/step - loss: 0.4325 - accuracy: 0.8393\n",
      "Epoch 26/100\n",
      "47/47 [==============================] - 0s 495us/step - loss: 0.4487 - accuracy: 0.8545\n",
      "Epoch 27/100\n",
      "47/47 [==============================] - 0s 455us/step - loss: 0.4533 - accuracy: 0.8348\n",
      "Epoch 28/100\n",
      "47/47 [==============================] - 0s 520us/step - loss: 0.4481 - accuracy: 0.8444\n",
      "Epoch 29/100\n",
      "47/47 [==============================] - 0s 504us/step - loss: 0.3676 - accuracy: 0.8733\n",
      "Epoch 30/100\n",
      "47/47 [==============================] - 0s 455us/step - loss: 0.3487 - accuracy: 0.8891\n",
      "Epoch 31/100\n",
      "47/47 [==============================] - 0s 434us/step - loss: 0.4052 - accuracy: 0.8814\n",
      "Epoch 32/100\n",
      "47/47 [==============================] - 0s 455us/step - loss: 0.4091 - accuracy: 0.8595\n",
      "Epoch 33/100\n",
      "47/47 [==============================] - 0s 455us/step - loss: 0.4277 - accuracy: 0.8576\n",
      "Epoch 34/100\n",
      "47/47 [==============================] - 0s 434us/step - loss: 0.3916 - accuracy: 0.8589\n",
      "Epoch 35/100\n",
      "47/47 [==============================] - 0s 499us/step - loss: 0.4140 - accuracy: 0.8451\n",
      "Epoch 36/100\n",
      "47/47 [==============================] - 0s 455us/step - loss: 0.4550 - accuracy: 0.8381\n",
      "Epoch 37/100\n",
      "47/47 [==============================] - 0s 434us/step - loss: 0.4449 - accuracy: 0.8494\n",
      "Epoch 38/100\n",
      "47/47 [==============================] - 0s 444us/step - loss: 0.4275 - accuracy: 0.8455\n",
      "Epoch 39/100\n",
      "47/47 [==============================] - 0s 434us/step - loss: 0.4691 - accuracy: 0.8353\n",
      "Epoch 40/100\n",
      "47/47 [==============================] - 0s 407us/step - loss: 0.4280 - accuracy: 0.8499\n",
      "Epoch 41/100\n",
      "47/47 [==============================] - 0s 434us/step - loss: 0.4339 - accuracy: 0.8569\n",
      "Epoch 42/100\n",
      "47/47 [==============================] - 0s 434us/step - loss: 0.4578 - accuracy: 0.8300\n",
      "Epoch 43/100\n",
      "47/47 [==============================] - 0s 412us/step - loss: 0.3570 - accuracy: 0.8697\n",
      "Epoch 44/100\n",
      "47/47 [==============================] - 0s 470us/step - loss: 0.3519 - accuracy: 0.8786\n",
      "Epoch 45/100\n",
      "47/47 [==============================] - 0s 434us/step - loss: 0.3735 - accuracy: 0.8542\n",
      "Epoch 46/100\n",
      "47/47 [==============================] - 0s 434us/step - loss: 0.4090 - accuracy: 0.8445\n",
      "Epoch 47/100\n",
      "47/47 [==============================] - 0s 456us/step - loss: 0.3504 - accuracy: 0.8743\n",
      "Epoch 48/100\n",
      "47/47 [==============================] - 0s 412us/step - loss: 0.3933 - accuracy: 0.8644\n",
      "Epoch 49/100\n",
      "47/47 [==============================] - 0s 412us/step - loss: 0.4119 - accuracy: 0.8360\n",
      "Epoch 50/100\n",
      "47/47 [==============================] - 0s 434us/step - loss: 0.3607 - accuracy: 0.8715\n",
      "Epoch 51/100\n",
      "47/47 [==============================] - 0s 434us/step - loss: 0.4292 - accuracy: 0.8451\n",
      "Epoch 52/100\n",
      "47/47 [==============================] - 0s 412us/step - loss: 0.4203 - accuracy: 0.8529\n",
      "Epoch 53/100\n",
      "47/47 [==============================] - 0s 461us/step - loss: 0.4172 - accuracy: 0.8481\n",
      "Epoch 54/100\n",
      "47/47 [==============================] - 0s 434us/step - loss: 0.4218 - accuracy: 0.8416\n",
      "Epoch 55/100\n",
      "47/47 [==============================] - 0s 455us/step - loss: 0.4086 - accuracy: 0.8600\n",
      "Epoch 56/100\n",
      "47/47 [==============================] - 0s 434us/step - loss: 0.4015 - accuracy: 0.8472\n",
      "Epoch 57/100\n",
      "47/47 [==============================] - 0s 428us/step - loss: 0.4051 - accuracy: 0.8475\n",
      "Epoch 58/100\n",
      "47/47 [==============================] - 0s 412us/step - loss: 0.3549 - accuracy: 0.8761\n",
      "Epoch 59/100\n",
      "47/47 [==============================] - 0s 434us/step - loss: 0.4103 - accuracy: 0.8454\n",
      "Epoch 60/100\n",
      "47/47 [==============================] - 0s 434us/step - loss: 0.3571 - accuracy: 0.8724\n",
      "Epoch 61/100\n",
      "47/47 [==============================] - 0s 412us/step - loss: 0.3925 - accuracy: 0.8712\n",
      "Epoch 62/100\n",
      "47/47 [==============================] - 0s 455us/step - loss: 0.4008 - accuracy: 0.8479\n",
      "Epoch 63/100\n",
      "47/47 [==============================] - 0s 412us/step - loss: 0.3727 - accuracy: 0.8673\n",
      "Epoch 64/100\n",
      "47/47 [==============================] - 0s 434us/step - loss: 0.4169 - accuracy: 0.8606\n",
      "Epoch 65/100\n",
      "47/47 [==============================] - 0s 434us/step - loss: 0.3763 - accuracy: 0.8629\n",
      "Epoch 66/100\n",
      "47/47 [==============================] - 0s 434us/step - loss: 0.4258 - accuracy: 0.8445\n",
      "Epoch 67/100\n",
      "47/47 [==============================] - 0s 434us/step - loss: 0.3721 - accuracy: 0.8614\n",
      "Epoch 68/100\n",
      "47/47 [==============================] - 0s 477us/step - loss: 0.4146 - accuracy: 0.8611\n",
      "Epoch 69/100\n",
      "47/47 [==============================] - 0s 477us/step - loss: 0.4378 - accuracy: 0.8172\n",
      "Epoch 70/100\n",
      "47/47 [==============================] - 0s 434us/step - loss: 0.4152 - accuracy: 0.8546\n",
      "Epoch 71/100\n",
      "47/47 [==============================] - 0s 434us/step - loss: 0.4325 - accuracy: 0.8258\n",
      "Epoch 72/100\n",
      "47/47 [==============================] - 0s 455us/step - loss: 0.3923 - accuracy: 0.8502\n",
      "Epoch 73/100\n",
      "47/47 [==============================] - 0s 455us/step - loss: 0.4145 - accuracy: 0.8489\n",
      "Epoch 74/100\n",
      "47/47 [==============================] - 0s 434us/step - loss: 0.3738 - accuracy: 0.8544\n",
      "Epoch 75/100\n",
      "47/47 [==============================] - 0s 434us/step - loss: 0.3517 - accuracy: 0.8754\n",
      "Epoch 76/100\n",
      "47/47 [==============================] - 0s 434us/step - loss: 0.3771 - accuracy: 0.8591\n",
      "Epoch 77/100\n",
      "47/47 [==============================] - 0s 455us/step - loss: 0.4419 - accuracy: 0.8235\n",
      "Epoch 78/100\n",
      "47/47 [==============================] - 0s 412us/step - loss: 0.3947 - accuracy: 0.8699\n",
      "Epoch 79/100\n",
      "47/47 [==============================] - 0s 412us/step - loss: 0.4099 - accuracy: 0.8370\n",
      "Epoch 80/100\n",
      "47/47 [==============================] - 0s 455us/step - loss: 0.4253 - accuracy: 0.8313\n",
      "Epoch 81/100\n",
      "47/47 [==============================] - 0s 434us/step - loss: 0.3732 - accuracy: 0.8735\n",
      "Epoch 82/100\n",
      "47/47 [==============================] - 0s 455us/step - loss: 0.4222 - accuracy: 0.8541\n",
      "Epoch 83/100\n",
      "47/47 [==============================] - 0s 412us/step - loss: 0.4489 - accuracy: 0.8442\n",
      "Epoch 84/100\n",
      "47/47 [==============================] - 0s 412us/step - loss: 0.3446 - accuracy: 0.8944\n",
      "Epoch 85/100\n",
      "47/47 [==============================] - 0s 455us/step - loss: 0.3836 - accuracy: 0.8496\n",
      "Epoch 86/100\n",
      "47/47 [==============================] - 0s 434us/step - loss: 0.3394 - accuracy: 0.8710\n",
      "Epoch 87/100\n",
      "47/47 [==============================] - 0s 412us/step - loss: 0.3946 - accuracy: 0.8629\n",
      "Epoch 88/100\n",
      "47/47 [==============================] - 0s 434us/step - loss: 0.3665 - accuracy: 0.8615\n",
      "Epoch 89/100\n",
      "47/47 [==============================] - 0s 455us/step - loss: 0.3781 - accuracy: 0.8479\n",
      "Epoch 90/100\n",
      "47/47 [==============================] - 0s 412us/step - loss: 0.3728 - accuracy: 0.8740\n",
      "Epoch 91/100\n",
      "47/47 [==============================] - 0s 434us/step - loss: 0.4207 - accuracy: 0.8487\n",
      "Epoch 92/100\n",
      "47/47 [==============================] - 0s 434us/step - loss: 0.4221 - accuracy: 0.8495\n",
      "Epoch 93/100\n",
      "47/47 [==============================] - 0s 412us/step - loss: 0.4179 - accuracy: 0.8388\n",
      "Epoch 94/100\n",
      "47/47 [==============================] - 0s 434us/step - loss: 0.3994 - accuracy: 0.8558\n",
      "Epoch 95/100\n",
      "47/47 [==============================] - 0s 412us/step - loss: 0.4059 - accuracy: 0.8593\n",
      "Epoch 96/100\n",
      "47/47 [==============================] - 0s 434us/step - loss: 0.4317 - accuracy: 0.8513\n",
      "Epoch 97/100\n",
      "47/47 [==============================] - 0s 412us/step - loss: 0.4597 - accuracy: 0.8254\n",
      "Epoch 98/100\n",
      "47/47 [==============================] - 0s 455us/step - loss: 0.3904 - accuracy: 0.8655\n",
      "Epoch 99/100\n",
      "47/47 [==============================] - 0s 433us/step - loss: 0.3789 - accuracy: 0.8666\n",
      "Epoch 100/100\n",
      "47/47 [==============================] - 0s 412us/step - loss: 0.3910 - accuracy: 0.8443\n"
     ]
    },
    {
     "data": {
      "text/plain": [
       "<tensorflow.python.keras.callbacks.History at 0x1ad09283a60>"
      ]
     },
     "execution_count": 10,
     "metadata": {},
     "output_type": "execute_result"
    }
   ],
   "source": [
    "X = Data_set[:, 0:17]\n",
    "Y = Data_set[:, 17]\n",
    "\n",
    "model = Sequential()\n",
    "model.add(Dense(30, input_dim=17, activation='relu')) #dense : 은닉층 \n",
    "model.add(Dense(1, activation='sigmoid'))\n",
    "\n",
    "model.compile(loss=\"binary_crossentropy\", optimizer=\"adam\", metrics=['accuracy']) #오차를 찾는 과정\n",
    "model.fit(X,Y, epochs=100, batch_size=10)"
   ]
  },
  {
   "cell_type": "code",
   "execution_count": null,
   "id": "fc485ca1",
   "metadata": {},
   "outputs": [],
   "source": []
  },
  {
   "cell_type": "code",
   "execution_count": 31,
   "id": "6033ac09",
   "metadata": {
    "scrolled": true
   },
   "outputs": [],
   "source": [
    "from tensorflow.keras.models import Sequential\n",
    "from tensorflow.keras.layers import Dense\n",
    "import numpy as np \n",
    "import tensorflow as tf\n",
    "\n",
    "from matplotlib import pyplot as plt \n",
    "\n",
    "X = data = np.linspace(1,2,200)\n",
    "# X.shape \n",
    "Y = X * 4 + np.random.randn(200) * 0.3\n",
    "#np.random.randn(200)"
   ]
  },
  {
   "cell_type": "code",
   "execution_count": 33,
   "id": "08067761",
   "metadata": {
    "scrolled": true
   },
   "outputs": [
    {
     "name": "stdout",
     "output_type": "stream",
     "text": [
      "Epoch 1/30\n",
      "200/200 [==============================] - 0s 344us/step - loss: 6.5089 - mse: 6.5089\n",
      "Epoch 2/30\n",
      "200/200 [==============================] - 0s 352us/step - loss: 0.2139 - mse: 0.2139\n",
      "Epoch 3/30\n",
      "200/200 [==============================] - 0s 341us/step - loss: 0.1613 - mse: 0.1613\n",
      "Epoch 4/30\n",
      "200/200 [==============================] - 0s 326us/step - loss: 0.1576 - mse: 0.1576\n",
      "Epoch 5/30\n",
      "200/200 [==============================] - 0s 331us/step - loss: 0.1459 - mse: 0.1459\n",
      "Epoch 6/30\n",
      "200/200 [==============================] - 0s 326us/step - loss: 0.1632 - mse: 0.1632\n",
      "Epoch 7/30\n",
      "200/200 [==============================] - 0s 326us/step - loss: 0.1258 - mse: 0.1258\n",
      "Epoch 8/30\n",
      "200/200 [==============================] - 0s 331us/step - loss: 0.1282 - mse: 0.1282\n",
      "Epoch 9/30\n",
      "200/200 [==============================] - 0s 358us/step - loss: 0.1222 - mse: 0.1222\n",
      "Epoch 10/30\n",
      "200/200 [==============================] - 0s 358us/step - loss: 0.1224 - mse: 0.1224\n",
      "Epoch 11/30\n",
      "200/200 [==============================] - 0s 336us/step - loss: 0.1175 - mse: 0.1175\n",
      "Epoch 12/30\n",
      "200/200 [==============================] - 0s 339us/step - loss: 0.1061 - mse: 0.1061\n",
      "Epoch 13/30\n",
      "200/200 [==============================] - 0s 341us/step - loss: 0.1297 - mse: 0.1297\n",
      "Epoch 14/30\n",
      "200/200 [==============================] - 0s 342us/step - loss: 0.0923 - mse: 0.0923\n",
      "Epoch 15/30\n",
      "200/200 [==============================] - 0s 336us/step - loss: 0.1297 - mse: 0.1297\n",
      "Epoch 16/30\n",
      "200/200 [==============================] - 0s 336us/step - loss: 0.1008 - mse: 0.1008\n",
      "Epoch 17/30\n",
      "200/200 [==============================] - 0s 372us/step - loss: 0.0942 - mse: 0.0942\n",
      "Epoch 18/30\n",
      "200/200 [==============================] - 0s 346us/step - loss: 0.1046 - mse: 0.1046\n",
      "Epoch 19/30\n",
      "200/200 [==============================] - 0s 341us/step - loss: 0.1041 - mse: 0.1041\n",
      "Epoch 20/30\n",
      "200/200 [==============================] - 0s 326us/step - loss: 0.1041 - mse: 0.1041\n",
      "Epoch 21/30\n",
      "200/200 [==============================] - 0s 338us/step - loss: 0.0889 - mse: 0.0889\n",
      "Epoch 22/30\n",
      "200/200 [==============================] - 0s 348us/step - loss: 0.1061 - mse: 0.1061\n",
      "Epoch 23/30\n",
      "200/200 [==============================] - 0s 357us/step - loss: 0.1161 - mse: 0.1161\n",
      "Epoch 24/30\n",
      "200/200 [==============================] - 0s 331us/step - loss: 0.0803 - mse: 0.0803\n",
      "Epoch 25/30\n",
      "200/200 [==============================] - 0s 351us/step - loss: 0.1180 - mse: 0.1180\n",
      "Epoch 26/30\n",
      "200/200 [==============================] - 0s 341us/step - loss: 0.0927 - mse: 0.0927 \n",
      "Epoch 27/30\n",
      "200/200 [==============================] - 0s 367us/step - loss: 0.1106 - mse: 0.1106\n",
      "Epoch 28/30\n",
      "200/200 [==============================] - 0s 346us/step - loss: 0.1154 - mse: 0.1154\n",
      "Epoch 29/30\n",
      "200/200 [==============================] - 0s 342us/step - loss: 0.1058 - mse: 0.1058\n",
      "Epoch 30/30\n",
      "200/200 [==============================] - 0s 361us/step - loss: 0.1049 - mse: 0.1049\n"
     ]
    },
    {
     "data": {
      "image/png": "[encoded data removed]",
      "text/plain": [
       "<Figure size 432x288 with 1 Axes>"
      ]
     },
     "metadata": {
      "needs_background": "light"
     },
     "output_type": "display_data"
    }
   ],
   "source": [
    "model = Sequential() #한줄의 신경망 생성\n",
    "model.add(Dense(1,input_dim=1, activation ='linear')) # : add : 층 추가 \n",
    "model.compile(optimizer='sgd',loss='mse', metrics=['mse'])\n",
    "model.fit(X,Y, batch_size=1, epochs =30, verbose =0)\n",
    "\n",
    "predict = model.predict(data)\n",
    "\n",
    "plt.plot(data, predict, 'b', data, Y, 'k.')\n",
    "plt.show()"
   ]
  },
  {
   "cell_type": "markdown",
   "id": "5bfb8f2f",
   "metadata": {},
   "source": [
    "### 선형회귀"
   ]
  },
  {
   "cell_type": "code",
   "execution_count": 111,
   "id": "e83c4c57",
   "metadata": {},
   "outputs": [
    {
     "name": "stdout",
     "output_type": "stream",
     "text": [
      "5.0 90.5\n"
     ]
    },
    {
     "data": {
      "text/plain": [
       "20.0"
      ]
     },
     "execution_count": 111,
     "metadata": {},
     "output_type": "execute_result"
    }
   ],
   "source": [
    "import numpy as np \n",
    "\n",
    "x = [2,4,6,8]\n",
    "y = [81,93,91,97]\n",
    "\n",
    "# x, y의 mean\n",
    "mx = np.mean(x)\n",
    "my = np.mean(y)\n",
    "\n",
    "print(mx,my)\n",
    "list_arr = []\n",
    "\n",
    "for i in x :    \n",
    "    a = (mx - i)**2\n",
    "    list_arr.append(a)\n",
    "    divisor = sum(list_arr)\n",
    "\n",
    "divisor"
   ]
  },
  {
   "cell_type": "code",
   "execution_count": 112,
   "id": "31eda0db",
   "metadata": {
    "scrolled": true
   },
   "outputs": [
    {
     "name": "stdout",
     "output_type": "stream",
     "text": [
      "5.0 90.5\n"
     ]
    },
    {
     "data": {
      "text/plain": [
       "20.0"
      ]
     },
     "execution_count": 112,
     "metadata": {},
     "output_type": "execute_result"
    }
   ],
   "source": [
    "import numpy as np \n",
    "\n",
    "x = [2,4,6,8]\n",
    "y = [81,93,91,97]\n",
    "\n",
    "# x, y의 mean\n",
    "mx = np.mean(x)\n",
    "my = np.mean(y)\n",
    "\n",
    "print(mx,my)\n",
    "\n",
    "divisor = sum((mx-i)**2 for i in x)\n",
    "divisor"
   ]
  },
  {
   "cell_type": "code",
   "execution_count": 81,
   "id": "ffc563f5",
   "metadata": {},
   "outputs": [
    {
     "data": {
      "text/plain": [
       "46.0"
      ]
     },
     "execution_count": 81,
     "metadata": {},
     "output_type": "execute_result"
    }
   ],
   "source": [
    "def top(x,mx,y,my) :\n",
    "    d = sum((mx-x[i])*(my-y[i]) for i in range(len(x))) \n",
    "    return d  \n",
    "\n",
    "top(x,mx,y,my)"
   ]
  },
  {
   "cell_type": "code",
   "execution_count": 82,
   "id": "8e902f66",
   "metadata": {
    "scrolled": true
   },
   "outputs": [
    {
     "name": "stdout",
     "output_type": "stream",
     "text": [
      "2.3\n",
      "79.0\n"
     ]
    }
   ],
   "source": [
    "dividend = top(x,mx,y,my)\n",
    "a = dividend / divisor\n",
    "\n",
    "b = my - (mx*a)\n",
    "print(a)\n",
    "print(b)"
   ]
  },
  {
   "cell_type": "code",
   "execution_count": null,
   "id": "245b0461",
   "metadata": {},
   "outputs": [],
   "source": []
  },
  {
   "cell_type": "code",
   "execution_count": 83,
   "id": "dc4f361e",
   "metadata": {},
   "outputs": [
    {
     "data": {
      "text/plain": [
       "<matplotlib.legend.Legend at 0x1ad104ab220>"
      ]
     },
     "execution_count": 83,
     "metadata": {},
     "output_type": "execute_result"
    },
    {
     "data": {
      "image/png": "[encoded data removed]",
      "text/plain": [
       "<Figure size 432x288 with 1 Axes>"
      ]
     },
     "metadata": {
      "needs_background": "light"
     },
     "output_type": "display_data"
    }
   ],
   "source": [
    "import matplotlib.pyplot as plt \n",
    "\n",
    "plt.scatter(x,y, label=\"real value\")\n",
    "plt.legend()"
   ]
  },
  {
   "cell_type": "code",
   "execution_count": 84,
   "id": "76de01d8",
   "metadata": {},
   "outputs": [
    {
     "name": "stdout",
     "output_type": "stream",
     "text": [
      "83.6\n",
      "88.2\n",
      "92.8\n",
      "97.4\n"
     ]
    },
    {
     "data": {
      "text/plain": [
       "<matplotlib.legend.Legend at 0x1ad10528d60>"
      ]
     },
     "execution_count": 84,
     "metadata": {},
     "output_type": "execute_result"
    },
    {
     "data": {
      "image/png": "[encoded data removed]",
      "text/plain": [
       "<Figure size 432x288 with 1 Axes>"
      ]
     },
     "metadata": {
      "needs_background": "light"
     },
     "output_type": "display_data"
    }
   ],
   "source": [
    "import matplotlib.pyplot as plt \n",
    "\n",
    "predict = []\n",
    "for i in x : \n",
    "    pre_y = a*i + b\n",
    "    print(pre_y)\n",
    "    predict.append(pre_y)\n",
    "    \n",
    "\n",
    "plt.scatter(x,y, label=\"real value\")\n",
    "plt.plot(x, predict, c ='r', label=\"predict\")\n",
    "plt.legend()"
   ]
  },
  {
   "cell_type": "code",
   "execution_count": 95,
   "id": "797823e5",
   "metadata": {},
   "outputs": [
    {
     "name": "stdout",
     "output_type": "stream",
     "text": [
      "2 81 82\n",
      "4 93 88\n",
      "6 91 94\n",
      "8 97 100\n",
      "7327.0\n"
     ]
    }
   ],
   "source": [
    "import numpy as np \n",
    "\n",
    "#가상의 기울기 a와 y절편  b\n",
    "fake_a_b = [3,76]\n",
    "\n",
    "#x 값과 y 값\n",
    "data = [[2,81],[4,93],[6,91],[8,97]]\n",
    "\n",
    "x = [i[0] for i in data]\n",
    "y = [i[1] for i in data]\n",
    "\n",
    "def predict(x):\n",
    "    return fake_a_b[0]*x + fake_a_b[1]\n",
    "\n",
    "def mse(y,y_hat):\n",
    "    return ((y-y_hat)**2).mean()\n",
    "\n",
    "def mse_val(y,predict_result):\n",
    "    return mse(np.array(x), np.array(predict_result))\n",
    "\n",
    "predict_result = []\n",
    "\n",
    "for i in range(len(x)) :\n",
    "    predict_result.append(predict(x[i]))\n",
    "    print(x[i],y[i],predict(x[i]))\n",
    "\n",
    "print(mse_val(predict_result, y))\n",
    "\n"
   ]
  },
  {
   "cell_type": "code",
   "execution_count": 96,
   "id": "8571837e",
   "metadata": {},
   "outputs": [
    {
     "name": "stdout",
     "output_type": "stream",
     "text": [
      "11.0\n"
     ]
    }
   ],
   "source": [
    "import numpy as np\n",
    "# 가상의 기울기 a와 절편 b\n",
    "fake_a_b = [3,76]\n",
    "# x,y의 값\n",
    "data = [[2,81],[4,93],[6,91],[8,97]]\n",
    "x = [i[0] for i in data]\n",
    "y = [i[1] for i in data]\n",
    "# y = ax + b에 a,b값 대입하여 결과를 출력하는 함수\n",
    "def predict(x):\n",
    "    return fake_a_b[0] * x + fake_a_b[1]\n",
    "# MSE 함수\n",
    "def mse(y, y_hat):\n",
    "    return ((y - y_hat) ** 2).mean()\n",
    "# MSE 함수를 각 y값에 대응하여 최종 값을 구하는 함수\n",
    "def mse_val(y, predict_result):\n",
    "    return mse(np.array(y), np.array(predict_result))\n",
    "predict_result = []\n",
    "# x의 개수만큼 돌린다.\n",
    "for i in range(len(x)):    \n",
    "    predict_result.append(predict(x[i]))\n",
    "# 오차값 출력\n",
    "print(mse_val(predict_result, y))"
   ]
  },
  {
   "cell_type": "code",
   "execution_count": null,
   "id": "d2df8065",
   "metadata": {},
   "outputs": [],
   "source": []
  },
  {
   "cell_type": "code",
   "execution_count": 108,
   "id": "b325616f",
   "metadata": {},
   "outputs": [
    {
     "data": {
      "image/png": "[encoded data removed]",
      "text/plain": [
       "<Figure size 576x360 with 1 Axes>"
      ]
     },
     "metadata": {
      "needs_background": "light"
     },
     "output_type": "display_data"
    },
    {
     "name": "stdout",
     "output_type": "stream",
     "text": [
      "epoch=0, 기울기=27.8400, 절편=5.4300\n",
      "epoch=100, 기울기=7.0739, 절편=50.5117\n",
      "epoch=200, 기울기=4.0960, 절편=68.2822\n",
      "epoch=300, 기울기=2.9757, 절편=74.9678\n",
      "epoch=400, 기울기=2.5542, 절편=77.4830\n",
      "epoch=500, 기울기=2.3956, 절편=78.4293\n",
      "epoch=600, 기울기=2.3360, 절편=78.7853\n",
      "epoch=700, 기울기=2.3135, 절편=78.9192\n",
      "epoch=800, 기울기=2.3051, 절편=78.9696\n",
      "epoch=900, 기울기=2.3019, 절편=78.9886\n",
      "epoch=1000, 기울기=2.3007, 절편=78.9957\n",
      "epoch=1100, 기울기=2.3003, 절편=78.9984\n",
      "epoch=1200, 기울기=2.3001, 절편=78.9994\n",
      "epoch=1300, 기울기=2.3000, 절편=78.9998\n",
      "epoch=1400, 기울기=2.3000, 절편=78.9999\n",
      "epoch=1500, 기울기=2.3000, 절편=79.0000\n",
      "epoch=1600, 기울기=2.3000, 절편=79.0000\n",
      "epoch=1700, 기울기=2.3000, 절편=79.0000\n",
      "epoch=1800, 기울기=2.3000, 절편=79.0000\n",
      "epoch=1900, 기울기=2.3000, 절편=79.0000\n",
      "epoch=2000, 기울기=2.3000, 절편=79.0000\n"
     ]
    }
   ],
   "source": [
    "import numpy as np\n",
    "import pandas as pd\n",
    "import matplotlib.pyplot as plt\n",
    "\n",
    "# 공부시간 x와 성적 y 의 리스트를 만듭니다.\n",
    "data = [[2,81],[4,93],[6,91],[8,97]]\n",
    "\n",
    "x = [i[0] for i in data]\n",
    "y = [i[1] for i in data]\n",
    "\n",
    "#그래프로 나타내 봅니다.\n",
    "plt.figure(figsize=(8,5))\n",
    "plt.scatter(x,y)\n",
    "plt.show()\n",
    "\n",
    "\n",
    "\n",
    "# 리스트로 되어있는 x와 y값을 넘파이 배열로 바꾸어줍니다. (인덱스를 주어 하나씩 불러와 계산이 가능해 지도록 하기 위함입니다.)\n",
    "x_data = np.array(x)\n",
    "y_data = np.array(y)\n",
    "\n",
    "#기울기 a 와 절편 b의 값을 초기화 합니다. \n",
    "a = 0\n",
    "b = 0\n",
    "\n",
    "# 학습률을 정합니다. \n",
    "lr = 0.03\n",
    "\n",
    "#몇번 반복될지를 설정합니다.(학습을 몇번 할 것인지?)\n",
    "epochs = 2001\n",
    "\n",
    "#경사 하강법을 시작합니다.\n",
    "for i in range(epochs): \n",
    "    y_hat =  a * x_data + b\n",
    "    error = y_data - y_hat\n",
    "    a_diff = -(2/len(x_data)) * sum(x_data *(error))\n",
    "    b_diff = -(2/len(x_data)) * sum(error)\n",
    "    a = a - lr * a_diff\n",
    "    b = b - lr * b_diff\n",
    "    if i % 100 == 0:\n",
    "        print(\"epoch=%.f, 기울기=%.04f, 절편=%.04f\"  % (i, a, b))"
   ]
  },
  {
   "cell_type": "markdown",
   "id": "6e9a28ce",
   "metadata": {},
   "source": [
    "=>epocho와 lr 을 변화시켜 optimizing!! "
   ]
  },
  {
   "cell_type": "code",
   "execution_count": 114,
   "id": "c0117c8c",
   "metadata": {},
   "outputs": [
    {
     "data": {
      "text/plain": [
       "<matplotlib.collections.PathCollection at 0x1ad0e655280>"
      ]
     },
     "execution_count": 114,
     "metadata": {},
     "output_type": "execute_result"
    },
    {
     "data": {
      "image/png": "[encoded data removed]",
      "text/plain": [
       "<Figure size 432x288 with 1 Axes>"
      ]
     },
     "metadata": {
      "needs_background": "light"
     },
     "output_type": "display_data"
    }
   ],
   "source": [
    "%matplotlib inline \n",
    "\n",
    "np. random.seed(0)\n",
    "\n",
    "#y = 4x + 6 식을 근사 (w1=4, w0 = 6) random값은 noise를 위해 만듦 \n",
    "x = 2 * np.random.rand(100,1)\n",
    "y = 6 + 4 * x + np.random.randn(100,1)\n",
    "\n",
    "#x, y데이터 셋 scatter plot 으로 시각화 \n",
    "plt.scatter(x,y)"
   ]
  },
  {
   "cell_type": "code",
   "execution_count": null,
   "id": "2f74f768",
   "metadata": {},
   "outputs": [],
   "source": []
  },
  {
   "cell_type": "code",
   "execution_count": 119,
   "id": "fbe3f70f",
   "metadata": {},
   "outputs": [],
   "source": [
    "#w1과 w0 를 업데이트 할 w1_updata, w0_update를 반환.\n",
    "def get_weigth_updates(w1, w0, S, y, learning_rate=0.01):\n",
    "    N = len(y)\n",
    "    #먼저 w1_update, w0_update를 각각 w1, w0의 shape와 동일한 크기를 가진 0값으로 초기화 \n",
    "    w1_update = np.zeros_like(w1)\n",
    "    w0_update = np.zeros_like(w0)\n",
    "    #예측 배열 계산하고 예측과 실제 값의 차이 계산 \n",
    "    y_pred = np.dot(x, w1.T) + w0\n",
    "    diff = y-y_pred\n",
    "    \n",
    "    #w0_update 를 dot행렬 연산으로 구하기 위해 모두 1값을 가진 행렬 생성 \n",
    "    w0_factors = np.ones((N,1))\n",
    "    \n",
    "    #w1과 w0을 업데이트할 w1_date와 w0_update 계산 \n",
    "    w1_update = -(2/N)*learning_rate*(np.dot(x.T, diff))\n",
    "    w0_update = -(2/N)*learning_rate*(np.dot(w0_factors.T, diff))\n",
    "    \n",
    "    return w1_update, w0_update\n",
    "\n",
    "\n"
   ]
  },
  {
   "cell_type": "code",
   "execution_count": 120,
   "id": "5d93c976",
   "metadata": {},
   "outputs": [
    {
     "name": "stdout",
     "output_type": "stream",
     "text": [
      "(100, 1)\n",
      "(1, 1) (1, 1)\n"
     ]
    },
    {
     "data": {
      "text/plain": [
       "(array([[0.]]), array([[0.]]))"
      ]
     },
     "execution_count": 120,
     "metadata": {},
     "output_type": "execute_result"
    }
   ],
   "source": [
    "w0 = np.zeros((1,1))\n",
    "w1 = np.zeros((1,1))\n",
    "y_pred = np.dot(x, w1.T) + w0\n",
    "diff = y-y_pred\n",
    "print(diff.shape)\n",
    "w0_factors = np.ones((100,1))\n",
    "w1_update = -(2/100)*0.01*(np.dot(x.T, diff))\n",
    "w0_update = -(2/100)*0.01*(np.dot(w0_factors.T, diff))\n",
    "print(w1_update.shape, w0_update.shape)\n",
    "w1, w0"
   ]
  },
  {
   "cell_type": "code",
   "execution_count": null,
   "id": "458d0e2b",
   "metadata": {},
   "outputs": [],
   "source": []
  },
  {
   "cell_type": "code",
   "execution_count": 2,
   "id": "bf71a1b0",
   "metadata": {},
   "outputs": [
    {
     "data": {
      "image/png": "[encoded data removed]",
      "text/plain": [
       "<Figure size 432x288 with 1 Axes>"
      ]
     },
     "metadata": {
      "needs_background": "light"
     },
     "output_type": "display_data"
    }
   ],
   "source": [
    "import numpy as np\n",
    "import pandas as pd\n",
    "import matplotlib.pyplot as plt\n",
    "from mpl_toolkits import mplot3d\n",
    "\n",
    "#공부시간 X와 성적 Y의 리스트를 만듭니다.\n",
    "data = [[2, 0, 81], [4, 4, 93], [6, 2, 91], [8, 3, 97]]\n",
    "x1 = [i[0] for i in data]\n",
    "x2 = [i[1] for i in data]\n",
    "y = [i[2] for i in data]\n",
    "\n",
    "#그래프로 확인해 봅니다.\n",
    "ax = plt.axes(projection='3d')\n",
    "ax.set_xlabel('study_hours')\n",
    "ax.set_ylabel('private_class')\n",
    "ax.set_zlabel('Score')\n",
    "ax.dist = 11\n",
    "ax.scatter(x1, x2, y)\n",
    "plt.show()"
   ]
  },
  {
   "cell_type": "code",
   "execution_count": 4,
   "id": "ed445dc2",
   "metadata": {
    "scrolled": true
   },
   "outputs": [
    {
     "name": "stdout",
     "output_type": "stream",
     "text": [
      "epoch=0, 기울기1=18.5600, 기울기2=8.4500, 절편=3.6200\n",
      "epoch=100, 기울기1=7.2994, 기울기2=4.2867, 절편=38.0427\n",
      "epoch=200, 기울기1=4.5683, 기울기2=3.3451, 절편=56.7901\n",
      "epoch=300, 기울기1=3.1235, 기울기2=2.8463, 절편=66.7100\n",
      "epoch=400, 기울기1=2.3591, 기울기2=2.5823, 절편=71.9589\n",
      "epoch=500, 기울기1=1.9546, 기울기2=2.4427, 절편=74.7362\n",
      "epoch=600, 기울기1=1.7405, 기울기2=2.3688, 절편=76.2058\n",
      "epoch=700, 기울기1=1.6273, 기울기2=2.3297, 절편=76.9833\n",
      "epoch=800, 기울기1=1.5673, 기울기2=2.3090, 절편=77.3948\n",
      "epoch=900, 기울기1=1.5356, 기울기2=2.2980, 절편=77.6125\n",
      "epoch=1000, 기울기1=1.5189, 기울기2=2.2922, 절편=77.7277\n",
      "epoch=1100, 기울기1=1.5100, 기울기2=2.2892, 절편=77.7886\n",
      "epoch=1200, 기울기1=1.5053, 기울기2=2.2875, 절편=77.8209\n",
      "epoch=1300, 기울기1=1.5028, 기울기2=2.2867, 절편=77.8380\n",
      "epoch=1400, 기울기1=1.5015, 기울기2=2.2862, 절편=77.8470\n",
      "epoch=1500, 기울기1=1.5008, 기울기2=2.2860, 절편=77.8518\n",
      "epoch=1600, 기울기1=1.5004, 기울기2=2.2859, 절편=77.8543\n",
      "epoch=1700, 기울기1=1.5002, 기울기2=2.2858, 절편=77.8556\n",
      "epoch=1800, 기울기1=1.5001, 기울기2=2.2858, 절편=77.8563\n",
      "epoch=1900, 기울기1=1.5001, 기울기2=2.2857, 절편=77.8567\n",
      "epoch=2000, 기울기1=1.5000, 기울기2=2.2857, 절편=77.8569\n",
      "epoch=2100, 기울기1=1.5000, 기울기2=2.2857, 절편=77.8570\n",
      "epoch=2200, 기울기1=1.5000, 기울기2=2.2857, 절편=77.8571\n",
      "epoch=2300, 기울기1=1.5000, 기울기2=2.2857, 절편=77.8571\n",
      "epoch=2400, 기울기1=1.5000, 기울기2=2.2857, 절편=77.8571\n",
      "epoch=2500, 기울기1=1.5000, 기울기2=2.2857, 절편=77.8571\n",
      "epoch=2600, 기울기1=1.5000, 기울기2=2.2857, 절편=77.8571\n",
      "epoch=2700, 기울기1=1.5000, 기울기2=2.2857, 절편=77.8571\n",
      "epoch=2800, 기울기1=1.5000, 기울기2=2.2857, 절편=77.8571\n",
      "epoch=2900, 기울기1=1.5000, 기울기2=2.2857, 절편=77.8571\n",
      "epoch=3000, 기울기1=1.5000, 기울기2=2.2857, 절편=77.8571\n",
      "epoch=3100, 기울기1=1.5000, 기울기2=2.2857, 절편=77.8571\n",
      "epoch=3200, 기울기1=1.5000, 기울기2=2.2857, 절편=77.8571\n",
      "epoch=3300, 기울기1=1.5000, 기울기2=2.2857, 절편=77.8571\n",
      "epoch=3400, 기울기1=1.5000, 기울기2=2.2857, 절편=77.8571\n",
      "epoch=3500, 기울기1=1.5000, 기울기2=2.2857, 절편=77.8571\n",
      "epoch=3600, 기울기1=1.5000, 기울기2=2.2857, 절편=77.8571\n",
      "epoch=3700, 기울기1=1.5000, 기울기2=2.2857, 절편=77.8571\n",
      "epoch=3800, 기울기1=1.5000, 기울기2=2.2857, 절편=77.8571\n",
      "epoch=3900, 기울기1=1.5000, 기울기2=2.2857, 절편=77.8571\n",
      "epoch=4000, 기울기1=1.5000, 기울기2=2.2857, 절편=77.8571\n",
      "epoch=4100, 기울기1=1.5000, 기울기2=2.2857, 절편=77.8571\n",
      "epoch=4200, 기울기1=1.5000, 기울기2=2.2857, 절편=77.8571\n",
      "epoch=4300, 기울기1=1.5000, 기울기2=2.2857, 절편=77.8571\n",
      "epoch=4400, 기울기1=1.5000, 기울기2=2.2857, 절편=77.8571\n",
      "epoch=4500, 기울기1=1.5000, 기울기2=2.2857, 절편=77.8571\n",
      "epoch=4600, 기울기1=1.5000, 기울기2=2.2857, 절편=77.8571\n",
      "epoch=4700, 기울기1=1.5000, 기울기2=2.2857, 절편=77.8571\n",
      "epoch=4800, 기울기1=1.5000, 기울기2=2.2857, 절편=77.8571\n",
      "epoch=4900, 기울기1=1.5000, 기울기2=2.2857, 절편=77.8571\n"
     ]
    }
   ],
   "source": [
    "#리스트로 되어 있는 x와 y값을 넘파이 배열로 바꾸어 줍니다.(인덱스를 주어 하나씩 불러와 계산이 가능해 지도록 하기 위함입니다.)\n",
    "x1_data = np.array(x1)\n",
    "x2_data = np.array(x2)\n",
    "y_data = np.array(y)\n",
    "\n",
    "# 기울기 a와 절편 b의 값을 초기화 합니다.\n",
    "a1 = 0\n",
    "a2 = 0\n",
    "b = 0\n",
    "\n",
    "#학습률을 정합니다.\n",
    "lr = 0.02\n",
    "\n",
    "#몇 번 반복될지를 설정합니다.(0부터 세므로 원하는 반복 횟수에 +1을 해 주어야 합니다.)\n",
    "epochs = 5000\n",
    "\n",
    "#경사 하강법을 시작합니다.\n",
    "for i in range(epochs): # epoch 수 만큼 반복\n",
    "    y_pred = a1 * x1_data + a2 * x2_data + b  #y를 구하는 식을 세웁니다\n",
    "    error = y_data - y_pred  #오차를 구하는 식입니다.\n",
    "    a1_diff = -(2/len(x1_data)) * sum(x1_data * (error)) # 오차함수를 a1로 미분한 값입니다.\n",
    "    a2_diff = -(2/len(x2_data)) * sum(x2_data * (error)) # 오차함수를 a2로 미분한 값입니다.\n",
    "    b_new = -(2/len(x1_data)) * sum(y_data - y_pred)  # 오차함수를 b로 미분한 값입니다.\n",
    "    a1 = a1 - lr * a1_diff  # 학습률을 곱해 기존의 a1값을 업데이트합니다.\n",
    "    a2 = a2 - lr * a2_diff  # 학습률을 곱해 기존의 a2값을 업데이트합니다.\n",
    "    b = b - lr * b_new  # 학습률을 곱해 기존의 b값을 업데이트합니다.\n",
    "    if i % 100 == 0:    # 100번 반복될 때마다 현재의 a1, a2, b값을 출력합니다.\n",
    "        print(\"epoch=%.f, 기울기1=%.04f, 기울기2=%.04f, 절편=%.04f\" % (i, a1, a2, b))"
   ]
  },
  {
   "cell_type": "markdown",
   "id": "bd17e99c",
   "metadata": {},
   "source": [
    "=> epoch=2200, 기울기1=1.5000, 기울기2=2.2857, 절편=77.8571"
   ]
  },
  {
   "cell_type": "code",
   "execution_count": 5,
   "id": "46a7b5dc",
   "metadata": {},
   "outputs": [
    {
     "data": {
      "image/png": "[encoded data removed]",
      "text/plain": [
       "<Figure size 432x288 with 1 Axes>"
      ]
     },
     "metadata": {
      "needs_background": "light"
     },
     "output_type": "display_data"
    }
   ],
   "source": [
    "#참고 자료, 다중 선형회귀 '예측 평면' 3D로 보기\n",
    "import statsmodels.api as statm\n",
    "import statsmodels.formula.api as statfa\n",
    "\n",
    "#from matplotlib.pyplot import figure\n",
    "X = [i[0:2] for i in data]\n",
    "y = [i[2] for i in data]\n",
    "X_1=statm.add_constant(X)\n",
    "results=statm.OLS(y,X_1).fit()\n",
    "hour_class=pd.DataFrame(X,columns=['study_hours','private_class'])\n",
    "hour_class['Score']=pd.Series(y)\n",
    "model = statfa.ols(formula='Score ~ study_hours + private_class', data=hour_class)\n",
    "results_formula = model.fit()\n",
    "a, b = np.meshgrid(np.linspace(hour_class.study_hours.min(),hour_class.study_hours.max(),100),\n",
    "                   np.linspace(hour_class.private_class.min(),hour_class.private_class.max(),100))\n",
    "X_ax = pd.DataFrame({'study_hours': a.ravel(), 'private_class': b.ravel()})\n",
    "fittedY=results_formula.predict(exog=X_ax)\n",
    "fig = plt.figure()\n",
    "graph = fig.add_subplot(111, projection='3d')\n",
    "graph.scatter(hour_class['study_hours'],hour_class['private_class'],hour_class['Score'],\n",
    "              c='blue',marker='o', alpha=1)\n",
    "graph.plot_surface(a,b,fittedY.values.reshape(a.shape),\n",
    "                   rstride=1, cstride=1, color='none', alpha=0.4)\n",
    "graph.set_xlabel('study hours')\n",
    "graph.set_ylabel('private class')\n",
    "graph.set_zlabel('Score')\n",
    "graph.dist = 11\n",
    "plt.show()"
   ]
  },
  {
   "cell_type": "markdown",
   "id": "4cd1b0e9",
   "metadata": {},
   "source": [
    "=> 평면으로 나옴 "
   ]
  },
  {
   "cell_type": "code",
   "execution_count": 7,
   "id": "d4a41c10",
   "metadata": {},
   "outputs": [
    {
     "data": {
      "text/plain": [
       "(-0.1, 1.1)"
      ]
     },
     "execution_count": 7,
     "metadata": {},
     "output_type": "execute_result"
    },
    {
     "data": {
      "image/png": "[encoded data removed]",
      "text/plain": [
       "<Figure size 432x288 with 1 Axes>"
      ]
     },
     "metadata": {
      "needs_background": "light"
     },
     "output_type": "display_data"
    }
   ],
   "source": [
    "import numpy as np \n",
    "import pandas as pd \n",
    "import matplotlib.pyplot as plt \n",
    "\n",
    "#공부시간 x와 성적 y 의 리스트를 만듭니다.\n",
    "data = [[2,0],[4,0],[6,0],[8,1],[10,1],[12,1],[14,1]]\n",
    "\n",
    "x_data = [i[0] for i in data]\n",
    "y_data = [i[1] for i in data]\n",
    "\n",
    "#그래프로 나타내 봅니다.\n",
    "plt.scatter(x_data,y_data)\n",
    "plt.xlim(0,15)\n",
    "plt.ylim(-.1,1.1)"
   ]
  },
  {
   "cell_type": "code",
   "execution_count": 10,
   "id": "37425378",
   "metadata": {},
   "outputs": [
    {
     "name": "stdout",
     "output_type": "stream",
     "text": [
      "epoch=0, 기울기=-0.0500, 절편=-0.0250\n",
      "epoch=0, 기울기=-0.1388, 절편=-0.0472\n",
      "epoch=0, 기울기=-0.2268, 절편=-0.0619\n",
      "epoch=0, 기울기=0.1201, 절편=-0.0185\n",
      "epoch=0, 기울기=0.2374, 절편=-0.0068\n",
      "epoch=0, 기울기=0.2705, 절편=-0.0040\n",
      "epoch=0, 기울기=0.2860, 절편=-0.0029\n",
      "epoch=1000, 기울기=1.4978, 절편=-9.9401\n",
      "epoch=1000, 기울기=1.4940, 절편=-9.9411\n",
      "epoch=1000, 기울기=1.4120, 절편=-9.9547\n",
      "epoch=1000, 기울기=1.4949, 절편=-9.9444\n",
      "epoch=1000, 기울기=1.4982, 절편=-9.9440\n",
      "epoch=1000, 기울기=1.4984, 절편=-9.9440\n",
      "epoch=1000, 기울기=1.4985, 절편=-9.9440\n",
      "epoch=2000, 기울기=1.9065, 절편=-12.9489\n",
      "epoch=2000, 기울기=1.9055, 절편=-12.9491\n",
      "epoch=2000, 기울기=1.8515, 절편=-12.9581\n",
      "epoch=2000, 기울기=1.9057, 절편=-12.9514\n",
      "epoch=2000, 기울기=1.9068, 절편=-12.9513\n",
      "epoch=2000, 기울기=1.9068, 절편=-12.9513\n",
      "epoch=2000, 기울기=1.9068, 절편=-12.9513\n"
     ]
    }
   ],
   "source": [
    "#기울기 a와 절편 b의 값을 초기화 합니다.\n",
    "a = 0\n",
    "b = 0\n",
    "\n",
    "#학습률을 정합니다.\n",
    "lr = 0.05\n",
    "\n",
    "#시그모이드 함수를 정의합니다.\n",
    "def sigmoid(x) :\n",
    "    return 1 / (1 + np.e **(-x))\n",
    "\n",
    "#경사 하강법을 실행합니다.\n",
    "for i in range(2001):\n",
    "    for x_data, y_data in data:\n",
    "        a_diff = x_data*(sigmoid(a*x_data +b) - y_data)\n",
    "        b_diff = sigmoid(a * x_data +b) - y_data\n",
    "        a = a - lr * a_diff\n",
    "        b = b - lr * b_diff\n",
    "        if i % 1000 == 0 :\n",
    "            print(\"epoch=%.f, 기울기=%.04f, 절편=%.04f\" %(i,a,b))"
   ]
  },
  {
   "cell_type": "code",
   "execution_count": null,
   "id": "f23aa2a7",
   "metadata": {},
   "outputs": [],
   "source": []
  }
 ],
 "metadata": {
  "kernelspec": {
   "display_name": "Python 3",
   "language": "python",
   "name": "python3"
  },
  "language_info": {
   "codemirror_mode": {
    "name": "ipython",
    "version": 3
   },
   "file_extension": ".py",
   "mimetype": "text/x-python",
   "name": "python",
   "nbconvert_exporter": "python",
   "pygments_lexer": "ipython3",
   "version": "3.8.9"
  }
 },
 "nbformat": 4,
 "nbformat_minor": 5
}
